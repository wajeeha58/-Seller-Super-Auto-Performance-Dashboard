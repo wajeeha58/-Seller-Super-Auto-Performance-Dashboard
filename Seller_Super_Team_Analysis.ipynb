{
  "nbformat": 4,
  "nbformat_minor": 0,
  "metadata": {
    "colab": {
      "provenance": []
    },
    "kernelspec": {
      "name": "python3",
      "display_name": "Python 3"
    },
    "language_info": {
      "name": "python"
    }
  },
  "cells": [
    {
      "cell_type": "code",
      "execution_count": 3,
      "metadata": {
        "id": "8fG2rzYMlQ7L"
      },
      "outputs": [],
      "source": [
        "# Import required libraries\n",
        "import numpy as np\n",
        "import pandas as pd"
      ]
    },
    {
      "cell_type": "code",
      "source": [
        "#Load the dataset\n",
        "from google.colab import files\n",
        "uploaded = files.upload()\n"
      ],
      "metadata": {
        "colab": {
          "base_uri": "https://localhost:8080/",
          "height": 73
        },
        "id": "37nBtVVkm2mA",
        "outputId": "a0d3741f-1841-4737-a79e-6f66ed6b3577"
      },
      "execution_count": 1,
      "outputs": [
        {
          "output_type": "display_data",
          "data": {
            "text/plain": [
              "<IPython.core.display.HTML object>"
            ],
            "text/html": [
              "\n",
              "     <input type=\"file\" id=\"files-70de8397-f5f4-4b1e-b2b2-9d6b6cb3406a\" name=\"files[]\" multiple disabled\n",
              "        style=\"border:none\" />\n",
              "     <output id=\"result-70de8397-f5f4-4b1e-b2b2-9d6b6cb3406a\">\n",
              "      Upload widget is only available when the cell has been executed in the\n",
              "      current browser session. Please rerun this cell to enable.\n",
              "      </output>\n",
              "      <script>// Copyright 2017 Google LLC\n",
              "//\n",
              "// Licensed under the Apache License, Version 2.0 (the \"License\");\n",
              "// you may not use this file except in compliance with the License.\n",
              "// You may obtain a copy of the License at\n",
              "//\n",
              "//      http://www.apache.org/licenses/LICENSE-2.0\n",
              "//\n",
              "// Unless required by applicable law or agreed to in writing, software\n",
              "// distributed under the License is distributed on an \"AS IS\" BASIS,\n",
              "// WITHOUT WARRANTIES OR CONDITIONS OF ANY KIND, either express or implied.\n",
              "// See the License for the specific language governing permissions and\n",
              "// limitations under the License.\n",
              "\n",
              "/**\n",
              " * @fileoverview Helpers for google.colab Python module.\n",
              " */\n",
              "(function(scope) {\n",
              "function span(text, styleAttributes = {}) {\n",
              "  const element = document.createElement('span');\n",
              "  element.textContent = text;\n",
              "  for (const key of Object.keys(styleAttributes)) {\n",
              "    element.style[key] = styleAttributes[key];\n",
              "  }\n",
              "  return element;\n",
              "}\n",
              "\n",
              "// Max number of bytes which will be uploaded at a time.\n",
              "const MAX_PAYLOAD_SIZE = 100 * 1024;\n",
              "\n",
              "function _uploadFiles(inputId, outputId) {\n",
              "  const steps = uploadFilesStep(inputId, outputId);\n",
              "  const outputElement = document.getElementById(outputId);\n",
              "  // Cache steps on the outputElement to make it available for the next call\n",
              "  // to uploadFilesContinue from Python.\n",
              "  outputElement.steps = steps;\n",
              "\n",
              "  return _uploadFilesContinue(outputId);\n",
              "}\n",
              "\n",
              "// This is roughly an async generator (not supported in the browser yet),\n",
              "// where there are multiple asynchronous steps and the Python side is going\n",
              "// to poll for completion of each step.\n",
              "// This uses a Promise to block the python side on completion of each step,\n",
              "// then passes the result of the previous step as the input to the next step.\n",
              "function _uploadFilesContinue(outputId) {\n",
              "  const outputElement = document.getElementById(outputId);\n",
              "  const steps = outputElement.steps;\n",
              "\n",
              "  const next = steps.next(outputElement.lastPromiseValue);\n",
              "  return Promise.resolve(next.value.promise).then((value) => {\n",
              "    // Cache the last promise value to make it available to the next\n",
              "    // step of the generator.\n",
              "    outputElement.lastPromiseValue = value;\n",
              "    return next.value.response;\n",
              "  });\n",
              "}\n",
              "\n",
              "/**\n",
              " * Generator function which is called between each async step of the upload\n",
              " * process.\n",
              " * @param {string} inputId Element ID of the input file picker element.\n",
              " * @param {string} outputId Element ID of the output display.\n",
              " * @return {!Iterable<!Object>} Iterable of next steps.\n",
              " */\n",
              "function* uploadFilesStep(inputId, outputId) {\n",
              "  const inputElement = document.getElementById(inputId);\n",
              "  inputElement.disabled = false;\n",
              "\n",
              "  const outputElement = document.getElementById(outputId);\n",
              "  outputElement.innerHTML = '';\n",
              "\n",
              "  const pickedPromise = new Promise((resolve) => {\n",
              "    inputElement.addEventListener('change', (e) => {\n",
              "      resolve(e.target.files);\n",
              "    });\n",
              "  });\n",
              "\n",
              "  const cancel = document.createElement('button');\n",
              "  inputElement.parentElement.appendChild(cancel);\n",
              "  cancel.textContent = 'Cancel upload';\n",
              "  const cancelPromise = new Promise((resolve) => {\n",
              "    cancel.onclick = () => {\n",
              "      resolve(null);\n",
              "    };\n",
              "  });\n",
              "\n",
              "  // Wait for the user to pick the files.\n",
              "  const files = yield {\n",
              "    promise: Promise.race([pickedPromise, cancelPromise]),\n",
              "    response: {\n",
              "      action: 'starting',\n",
              "    }\n",
              "  };\n",
              "\n",
              "  cancel.remove();\n",
              "\n",
              "  // Disable the input element since further picks are not allowed.\n",
              "  inputElement.disabled = true;\n",
              "\n",
              "  if (!files) {\n",
              "    return {\n",
              "      response: {\n",
              "        action: 'complete',\n",
              "      }\n",
              "    };\n",
              "  }\n",
              "\n",
              "  for (const file of files) {\n",
              "    const li = document.createElement('li');\n",
              "    li.append(span(file.name, {fontWeight: 'bold'}));\n",
              "    li.append(span(\n",
              "        `(${file.type || 'n/a'}) - ${file.size} bytes, ` +\n",
              "        `last modified: ${\n",
              "            file.lastModifiedDate ? file.lastModifiedDate.toLocaleDateString() :\n",
              "                                    'n/a'} - `));\n",
              "    const percent = span('0% done');\n",
              "    li.appendChild(percent);\n",
              "\n",
              "    outputElement.appendChild(li);\n",
              "\n",
              "    const fileDataPromise = new Promise((resolve) => {\n",
              "      const reader = new FileReader();\n",
              "      reader.onload = (e) => {\n",
              "        resolve(e.target.result);\n",
              "      };\n",
              "      reader.readAsArrayBuffer(file);\n",
              "    });\n",
              "    // Wait for the data to be ready.\n",
              "    let fileData = yield {\n",
              "      promise: fileDataPromise,\n",
              "      response: {\n",
              "        action: 'continue',\n",
              "      }\n",
              "    };\n",
              "\n",
              "    // Use a chunked sending to avoid message size limits. See b/62115660.\n",
              "    let position = 0;\n",
              "    do {\n",
              "      const length = Math.min(fileData.byteLength - position, MAX_PAYLOAD_SIZE);\n",
              "      const chunk = new Uint8Array(fileData, position, length);\n",
              "      position += length;\n",
              "\n",
              "      const base64 = btoa(String.fromCharCode.apply(null, chunk));\n",
              "      yield {\n",
              "        response: {\n",
              "          action: 'append',\n",
              "          file: file.name,\n",
              "          data: base64,\n",
              "        },\n",
              "      };\n",
              "\n",
              "      let percentDone = fileData.byteLength === 0 ?\n",
              "          100 :\n",
              "          Math.round((position / fileData.byteLength) * 100);\n",
              "      percent.textContent = `${percentDone}% done`;\n",
              "\n",
              "    } while (position < fileData.byteLength);\n",
              "  }\n",
              "\n",
              "  // All done.\n",
              "  yield {\n",
              "    response: {\n",
              "      action: 'complete',\n",
              "    }\n",
              "  };\n",
              "}\n",
              "\n",
              "scope.google = scope.google || {};\n",
              "scope.google.colab = scope.google.colab || {};\n",
              "scope.google.colab._files = {\n",
              "  _uploadFiles,\n",
              "  _uploadFilesContinue,\n",
              "};\n",
              "})(self);\n",
              "</script> "
            ]
          },
          "metadata": {}
        },
        {
          "output_type": "stream",
          "name": "stdout",
          "text": [
            "Saving seller_super_data.csv to seller_super_data.csv\n"
          ]
        }
      ]
    },
    {
      "cell_type": "code",
      "source": [
        "# Check the keys of the uploaded file (to get the file name)\n",
        "print(uploaded.keys())\n"
      ],
      "metadata": {
        "colab": {
          "base_uri": "https://localhost:8080/"
        },
        "id": "fHI57dakpj1K",
        "outputId": "858947bc-b39c-4759-98d2-564a76c28643"
      },
      "execution_count": 5,
      "outputs": [
        {
          "output_type": "stream",
          "name": "stdout",
          "text": [
            "dict_keys(['seller_super_data.csv'])\n"
          ]
        }
      ]
    },
    {
      "cell_type": "code",
      "source": [
        "# Load the dataset into a pandas DataFrame\n",
        "file_name = list(uploaded.keys())[0]\n",
        "df = pd.read_csv(file_name)"
      ],
      "metadata": {
        "id": "IxE4k6f_pnMJ"
      },
      "execution_count": 6,
      "outputs": []
    },
    {
      "cell_type": "code",
      "source": [
        "# Display basic info about the dataset\n",
        "print(\"Before Cleaning:\")\n",
        "print(df.info())\n",
        "print(\"\\nMissing values:\\n\", df.isnull().sum())"
      ],
      "metadata": {
        "colab": {
          "base_uri": "https://localhost:8080/"
        },
        "id": "kuca8Pw_pOtn",
        "outputId": "1b06582e-640b-4d64-dfa1-caf7944031ae"
      },
      "execution_count": 7,
      "outputs": [
        {
          "output_type": "stream",
          "name": "stdout",
          "text": [
            "Before Cleaning:\n",
            "<class 'pandas.core.frame.DataFrame'>\n",
            "RangeIndex: 35 entries, 0 to 34\n",
            "Data columns (total 8 columns):\n",
            " #   Column        Non-Null Count  Dtype  \n",
            "---  ------        --------------  -----  \n",
            " 0   Actor         34 non-null     object \n",
            " 1   Schedule      31 non-null     float64\n",
            " 2   Net_Schedule  31 non-null     float64\n",
            " 3   %_Rejected    31 non-null     float64\n",
            " 4   %_V/S         31 non-null     float64\n",
            " 5   Sub-Team      29 non-null     object \n",
            " 6   Visits        31 non-null     float64\n",
            " 7   TL            30 non-null     object \n",
            "dtypes: float64(5), object(3)\n",
            "memory usage: 2.3+ KB\n",
            "None\n",
            "\n",
            "Missing values:\n",
            " Actor           1\n",
            "Schedule        4\n",
            "Net_Schedule    4\n",
            "%_Rejected      4\n",
            "%_V/S           4\n",
            "Sub-Team        6\n",
            "Visits          4\n",
            "TL              5\n",
            "dtype: int64\n"
          ]
        }
      ]
    },
    {
      "cell_type": "code",
      "source": [
        "# STEP 4: Rename columns for easier handling\n",
        "df.rename(columns={\n",
        "    'Actor': 'RM',\n",
        "    'Schedule': 'Schedule',\n",
        "    'Net_Schedule': 'Net_Schedule',\n",
        "    '%_Rejected': 'Rejected_Perc',\n",
        "    '%_V/S': 'Visit_Schedule_Perc',\n",
        "    'Sub-Team': 'SubTeam',\n",
        "    'Visits': 'Visits',\n",
        "    'TL': 'TeamLead'\n",
        "}, inplace=True)"
      ],
      "metadata": {
        "id": "ShScDsOmpwVu"
      },
      "execution_count": 8,
      "outputs": []
    },
    {
      "cell_type": "code",
      "source": [
        "#Handle missing values\n",
        "df = df.dropna(subset=['RM', 'Schedule', 'Net_Schedule', 'Visits'])\n"
      ],
      "metadata": {
        "id": "D4u9s9sJpz4w"
      },
      "execution_count": 9,
      "outputs": []
    },
    {
      "cell_type": "code",
      "source": [
        "#Fill missing values in text fields with 'Unknown' (if applicable)\n",
        "df['SubTeam'].fillna('Unknown', inplace=True)\n",
        "df['TeamLead'].fillna('Unknown', inplace=True)\n"
      ],
      "metadata": {
        "colab": {
          "base_uri": "https://localhost:8080/"
        },
        "id": "-kiYit94p2Jy",
        "outputId": "59c2cf82-6092-4ea3-af2e-3f002219f197"
      },
      "execution_count": 10,
      "outputs": [
        {
          "output_type": "stream",
          "name": "stderr",
          "text": [
            "<ipython-input-10-c2dba9c37703>:2: FutureWarning: A value is trying to be set on a copy of a DataFrame or Series through chained assignment using an inplace method.\n",
            "The behavior will change in pandas 3.0. This inplace method will never work because the intermediate object on which we are setting values always behaves as a copy.\n",
            "\n",
            "For example, when doing 'df[col].method(value, inplace=True)', try using 'df.method({col: value}, inplace=True)' or df[col] = df[col].method(value) instead, to perform the operation inplace on the original object.\n",
            "\n",
            "\n",
            "  df['SubTeam'].fillna('Unknown', inplace=True)  # Fill missing 'SubTeam' with 'Unknown'\n",
            "<ipython-input-10-c2dba9c37703>:3: FutureWarning: A value is trying to be set on a copy of a DataFrame or Series through chained assignment using an inplace method.\n",
            "The behavior will change in pandas 3.0. This inplace method will never work because the intermediate object on which we are setting values always behaves as a copy.\n",
            "\n",
            "For example, when doing 'df[col].method(value, inplace=True)', try using 'df.method({col: value}, inplace=True)' or df[col] = df[col].method(value) instead, to perform the operation inplace on the original object.\n",
            "\n",
            "\n",
            "  df['TeamLead'].fillna('Unknown', inplace=True)  # Fill missing 'TeamLead' with 'Unknown'\n"
          ]
        }
      ]
    },
    {
      "cell_type": "code",
      "source": [
        "#Summary statistics\n",
        "print(\"\\n=== Summary Statistics ===\")\n",
        "print(df.describe())"
      ],
      "metadata": {
        "colab": {
          "base_uri": "https://localhost:8080/"
        },
        "id": "MBwzhYT1p61q",
        "outputId": "1d7a6151-c396-4abd-8de9-32f68dff4c8a"
      },
      "execution_count": 11,
      "outputs": [
        {
          "output_type": "stream",
          "name": "stdout",
          "text": [
            "\n",
            "=== Summary Statistics ===\n",
            "          Schedule  Net_Schedule  Rejected_Perc  Visit_Schedule_Perc  \\\n",
            "count    31.000000     31.000000      31.000000            31.000000   \n",
            "mean    604.612903    378.548387      36.703226            38.919355   \n",
            "std     246.931256    131.647975       7.108937             7.475178   \n",
            "min     175.000000    165.000000      23.700000            18.400000   \n",
            "25%     468.000000    300.000000      33.100000            34.500000   \n",
            "50%     659.000000    366.000000      36.500000            38.400000   \n",
            "75%     786.500000    487.000000      42.300000            41.850000   \n",
            "max    1049.000000    629.000000      53.100000            53.700000   \n",
            "\n",
            "           Visits  \n",
            "count   31.000000  \n",
            "mean   147.000000  \n",
            "std     53.000629  \n",
            "min     35.000000  \n",
            "25%    108.000000  \n",
            "50%    141.000000  \n",
            "75%    189.000000  \n",
            "max    245.000000  \n"
          ]
        }
      ]
    },
    {
      "cell_type": "code",
      "source": [
        "#TeamLead-wise Performance Analysis\n",
        "\n",
        "print(\"\\n=== TL-wise Summary ===\")\n",
        "tl_group = df.groupby('TeamLead')[['Schedule', 'Net_Schedule', 'Visits']].sum().sort_values(by='Net_Schedule', ascending=False)\n",
        "print(tl_group)\n"
      ],
      "metadata": {
        "colab": {
          "base_uri": "https://localhost:8080/"
        },
        "id": "ayS2rcNOp-4C",
        "outputId": "88f302a8-f046-4b18-ecf1-d7e23262abe5"
      },
      "execution_count": 12,
      "outputs": [
        {
          "output_type": "stream",
          "name": "stdout",
          "text": [
            "\n",
            "=== TL-wise Summary ===\n",
            "              Schedule  Net_Schedule  Visits\n",
            "TeamLead                                    \n",
            "Ujjwal Shahi   18082.0       11163.0  4334.0\n",
            "Unknown          291.0         232.0    39.0\n",
            "Jeevan RAM       195.0         175.0    80.0\n",
            "Kaviyarasu       175.0         165.0   104.0\n"
          ]
        }
      ]
    },
    {
      "cell_type": "code",
      "source": [
        "#Sub-Team Performance Analysis\n",
        "print(\"\\n=== Sub-Team Performance ===\")\n",
        "sub_group = df.groupby('SubTeam')[['Schedule', 'Net_Schedule', 'Visits']].sum().sort_values(by='Visits', ascending=False)\n",
        "print(sub_group)"
      ],
      "metadata": {
        "colab": {
          "base_uri": "https://localhost:8080/"
        },
        "id": "Zs99iuu3qCPp",
        "outputId": "23554059-38b1-4e99-dc6b-ca821769efb2"
      },
      "execution_count": 13,
      "outputs": [
        {
          "output_type": "stream",
          "name": "stdout",
          "text": [
            "\n",
            "=== Sub-Team Performance ===\n",
            "                     Schedule  Net_Schedule  Visits\n",
            "SubTeam                                            \n",
            "Super Seller - Auto   12388.0        7579.0  2853.0\n",
            "Seller-Super           4481.0        2682.0  1160.0\n",
            "Seller Super - NRI      836.0         527.0   206.0\n",
            "Super Seller - BE       384.0         364.0   160.0\n",
            "Seller - Post Paid      175.0         165.0   104.0\n",
            "Unknown                 479.0         418.0    74.0\n"
          ]
        }
      ]
    },
    {
      "cell_type": "code",
      "source": [
        "#Top Performing RMs (Relationship Managers)\n",
        "print(\"\\n=== Top RMs by Visits ===\")\n",
        "top_rms = df[['RM', 'Visits', 'Net_Schedule', 'Rejected_Perc', 'Visit_Schedule_Perc']].sort_values(by='Visits', ascending=False)\n",
        "print(top_rms.head(10))"
      ],
      "metadata": {
        "colab": {
          "base_uri": "https://localhost:8080/"
        },
        "id": "abVZSjAUqFIq",
        "outputId": "eb54f352-db95-4978-d8d4-cb3caaf77aba"
      },
      "execution_count": 14,
      "outputs": [
        {
          "output_type": "stream",
          "name": "stdout",
          "text": [
            "\n",
            "=== Top RMs by Visits ===\n",
            "                                RM  Visits  Net_Schedule  Rejected_Perc  \\\n",
            "0     lohitha.kanasani@nobroker.in   245.0         629.0           38.3   \n",
            "1  idanakanti.jeevitha@nobroker.in   231.0         587.0           37.4   \n",
            "3         danish.nazir@nobroker.in   211.0         525.0           35.8   \n",
            "7        kankan.kander@nobroker.in   209.0         478.0           42.3   \n",
            "5           shapeena.6@nobroker.in   206.0         527.0           33.1   \n",
            "6           nandhini.m@nobroker.in   204.0         537.0           35.3   \n",
            "4     parthasarathy.rs@nobroker.in   198.0         516.0           35.6   \n",
            "2              akhil.g@nobroker.in   190.0         590.0           33.7   \n",
            "9        ishrat.akhtar@nobroker.in   188.0         496.0           29.5   \n",
            "8      gajula.srikanth@nobroker.in   186.0         430.0           42.3   \n",
            "\n",
            "   Visit_Schedule_Perc  \n",
            "0                 39.0  \n",
            "1                 39.4  \n",
            "3                 40.2  \n",
            "7                 43.5  \n",
            "5                 38.0  \n",
            "6                 38.0  \n",
            "4                 40.2  \n",
            "2                 32.2  \n",
            "9                 37.9  \n",
            "8                 39.7  \n"
          ]
        }
      ]
    }
  ]
}